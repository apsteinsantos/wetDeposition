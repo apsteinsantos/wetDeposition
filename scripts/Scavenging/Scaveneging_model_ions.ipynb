{
 "cells": [
  {
   "cell_type": "code",
   "execution_count": 11,
   "id": "5c7d0206-c7e7-47da-83ec-0f7f1986cf23",
   "metadata": {
    "jupyter": {
     "source_hidden": true
    }
   },
   "outputs": [],
   "source": [
    "import numpy as np"
   ]
  },
  {
   "cell_type": "markdown",
   "id": "ba3f48b1-da24-4323-b196-cfc4ab1598e5",
   "metadata": {},
   "source": [
    "Raindrop diameter - (Serio et al, 2019) https://doi.org/10.1016/j.jhydrol.2019.06.040 "
   ]
  },
  {
   "cell_type": "code",
   "execution_count": 38,
   "id": "699a11a0-f90d-4641-b661-3e68b1bba0b8",
   "metadata": {
    "editable": true,
    "slideshow": {
     "slide_type": ""
    },
    "tags": []
   },
   "outputs": [],
   "source": [
    "Dp_min = 0.1\n",
    "Dp_max = 0.6\n",
    "Dp = (Dp_max-Dp_min)*np.random.rand(1000) + Dp_min #diametro da gota cm"
   ]
  },
  {
   "cell_type": "markdown",
   "id": "3eadccbf-bfe5-492b-93d7-8fd41cddeebe",
   "metadata": {
    "editable": true,
    "slideshow": {
     "slide_type": ""
    },
    "tags": []
   },
   "source": [
    "Rain heigth"
   ]
  },
  {
   "cell_type": "code",
   "execution_count": 39,
   "id": "af0142b3-a92d-4e40-85e2-ec5c8dc77473",
   "metadata": {
    "editable": true,
    "slideshow": {
     "slide_type": ""
    },
    "tags": []
   },
   "outputs": [],
   "source": [
    "z_min = 120 #altura do coletor\n",
    "z_max = 20000\n",
    "z = (z_max-z_min)*np.random.rand(1000) + z_min  #altura da precipitação cm"
   ]
  },
  {
   "cell_type": "markdown",
   "id": "584969f9-712f-400d-9222-74536ac23953",
   "metadata": {
    "editable": true,
    "slideshow": {
     "slide_type": ""
    },
    "tags": []
   },
   "source": [
    "Raindrop velocity - (Dijk, et al., 2002) https://doi.org/10.1016/S0022-1694(02)00020-3"
   ]
  },
  {
   "cell_type": "code",
   "execution_count": 40,
   "id": "df92b5c1-c78c-4abb-a81a-07c765224370",
   "metadata": {
    "editable": true,
    "slideshow": {
     "slide_type": ""
    },
    "tags": []
   },
   "outputs": [],
   "source": [
    "Vd_min = 0.0561*Dp_min**3 - 0.912*Dp_min**2 + 5.03*Dp_min - 0.254\n",
    "Vd_max = 0.0561*Dp_max**3 - 0.912*Dp_max**2 + 5.03*Dp_max - 0.254\n",
    "Vd = (Vd_max - Vd_min)*np.random.rand(1000) + Vd_min #velocidade da gota cm*s−1"
   ]
  },
  {
   "cell_type": "markdown",
   "id": "a8f42392-d87e-458a-b79d-b065c0cd8184",
   "metadata": {
    "editable": true,
    "slideshow": {
     "slide_type": ""
    },
    "tags": []
   },
   "source": [
    "Temperature"
   ]
  },
  {
   "cell_type": "code",
   "execution_count": 41,
   "id": "5d1b520a-e796-4926-9ce1-b8b87acf8530",
   "metadata": {
    "editable": true,
    "slideshow": {
     "slide_type": ""
    },
    "tags": []
   },
   "outputs": [],
   "source": [
    "T_min = 280\n",
    "T_max = 310\n",
    "T = (T_max-T_min)*np.random.rand(1000) + T_min  #temp Kelvin"
   ]
  },
  {
   "cell_type": "markdown",
   "id": "68c0e4ea-277b-403e-8612-db59f0797233",
   "metadata": {
    "editable": true,
    "slideshow": {
     "slide_type": ""
    },
    "tags": []
   },
   "source": [
    "Constant"
   ]
  },
  {
   "cell_type": "code",
   "execution_count": 42,
   "id": "3bcc168c-1f40-4b79-94c8-74cf6c4a41ac",
   "metadata": {
    "editable": true,
    "slideshow": {
     "slide_type": ""
    },
    "tags": []
   },
   "outputs": [],
   "source": [
    "H = 1.45E-02 # Cte Henry\n",
    "R = 0.082 #cte molar"
   ]
  },
  {
   "cell_type": "markdown",
   "id": "a7c4090a-903c-4b35-bab2-3bf344750e08",
   "metadata": {
    "editable": true,
    "slideshow": {
     "slide_type": ""
    },
    "tags": []
   },
   "source": [
    "Variable to mass transfer coeficient"
   ]
  },
  {
   "cell_type": "code",
   "execution_count": 43,
   "id": "53c6e5e5-79cc-4fc0-97d0-710b6b0ee1f9",
   "metadata": {
    "editable": true,
    "slideshow": {
     "slide_type": ""
    },
    "tags": []
   },
   "outputs": [],
   "source": [
    "Dg_min = 0.0001\n",
    "Dg_max = 1\n",
    "Dg = (Dg_max-Dg_min)*np.random.rand(1000) + Dg_min  #difusibilidade das espécies químicas cm2*s−1\n",
    "\n",
    "p_air_min = 0.0010 \n",
    "p_air_max = 0.0013\n",
    "p_air = (p_air_max-p_air_min)*np.random.rand(1000) + p_air_min #densidade do ar g*cm−3\n",
    "\n",
    "mi_air_min = 0.000015\n",
    "mi_air_max = 0.00018\n",
    "mi_air = (mi_air_max-mi_air_min)*np.random.rand(1000) + mi_air_min #viscosidade do car g*cm−1*s−1"
   ]
  },
  {
   "cell_type": "markdown",
   "id": "cdffa9d7-a4fb-4dca-aa02-14960565f951",
   "metadata": {
    "editable": true,
    "slideshow": {
     "slide_type": ""
    },
    "tags": []
   },
   "source": [
    "Mass transfer coefficient"
   ]
  },
  {
   "cell_type": "code",
   "execution_count": 44,
   "id": "ee4d74ac-8597-4813-943e-fb4b64ff6af0",
   "metadata": {
    "editable": true,
    "slideshow": {
     "slide_type": ""
    },
    "tags": []
   },
   "outputs": [],
   "source": [
    "Kc = Dg/Dp*(2+0.6*((p_air*Dp*Vd/mi_air)**0.5)*((mi_air/(p_air*Dg))**(1/3)))"
   ]
  },
  {
   "cell_type": "markdown",
   "id": "749faf32-e499-4aa0-b217-a1f24f3127cd",
   "metadata": {
    "editable": true,
    "slideshow": {
     "slide_type": ""
    },
    "tags": []
   },
   "source": [
    "Scaveneging coeficient"
   ]
  },
  {
   "cell_type": "code",
   "execution_count": 45,
   "id": "0784fa8e-26a8-4b1f-9b73-032501ead852",
   "metadata": {
    "editable": true,
    "slideshow": {
     "slide_type": ""
    },
    "tags": []
   },
   "outputs": [],
   "source": [
    "A = np.pi*Dp**2*Kc*np.exp((-6.0 * Kc * z) / (Dp * Vd * H * R * T))"
   ]
  },
  {
   "cell_type": "code",
   "execution_count": null,
   "id": "f371b714-a13e-4af6-85a0-7a2d0a1d18be",
   "metadata": {
    "editable": true,
    "slideshow": {
     "slide_type": ""
    },
    "tags": []
   },
   "outputs": [],
   "source": []
  }
 ],
 "metadata": {
  "kernelspec": {
   "display_name": "Python 3 (ipykernel)",
   "language": "python",
   "name": "python3"
  },
  "language_info": {
   "codemirror_mode": {
    "name": "ipython",
    "version": 3
   },
   "file_extension": ".py",
   "mimetype": "text/x-python",
   "name": "python",
   "nbconvert_exporter": "python",
   "pygments_lexer": "ipython3",
   "version": "3.13.1"
  }
 },
 "nbformat": 4,
 "nbformat_minor": 5
}
